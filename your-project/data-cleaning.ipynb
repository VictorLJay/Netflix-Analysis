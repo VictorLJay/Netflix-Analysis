{
 "cells": [
  {
   "cell_type": "code",
   "execution_count": 12,
   "metadata": {},
   "outputs": [],
   "source": [
    "# Libraries\n",
    "import pandas as pd\n",
    "import numpy as np\n",
    "import re\n",
    "from datetime import datetime as dt"
   ]
  },
  {
   "cell_type": "markdown",
   "metadata": {},
   "source": [
    "## Data Cleaning"
   ]
  },
  {
   "cell_type": "code",
   "execution_count": 13,
   "metadata": {},
   "outputs": [],
   "source": [
    "# Importing Netflix DF\n",
    "netflix = pd.read_csv(\"../data/raw-data/Netflix_Titles.csv\", )\n",
    "netflix = netflix.drop(columns=[\"show_id\", \"description\"])\n",
    "netflix[\"date_added\"] = pd.to_datetime(netflix[\"date_added\"])\n",
    "netflix[\"year_added\"] = netflix[\"date_added\"].dt.strftime(\"%Y\")\n",
    "netflix[\"date_added\"] = netflix[\"date_added\"].dt.strftime(\"%Y-%m\")\n",
    "\n",
    "# Importing IMDB DF\n",
    "IMDB = pd.read_csv(\"../data/raw-data/IMDb_results_nov-22-2020.csv\", index_col=0)\n",
    "\n",
    "# Joinig both tables\n",
    "netflix = netflix.join(IMDB)\n",
    "\n",
    "# Cleaning the DF mantaining the desired columns\n",
    "netflix = netflix.drop(columns=[\"IMDB_titleID\", \"IMDB_title_name\"])\n",
    "netflix = netflix.rename(columns={\"IMDB_rating\":\"IMDb_rating\"})"
   ]
  },
  {
   "cell_type": "code",
   "execution_count": 14,
   "metadata": {},
   "outputs": [],
   "source": [
    "# Importing DF that indicates if a TV Show / Film appears in different streaming platforms\n",
    "\n",
    "# Streaming Movies DF\n",
    "streaming_platforms_movies = pd.read_csv(\"../data/raw-data/StreamingPlatforms_Movies.csv\", index_col=0)\n",
    "streaming_platforms_movies = streaming_platforms_movies.drop(columns=[\"Language\", \"Runtime\", \"Directors\", \"Genres\", \"Type\", \"IMDb\", \"Rotten Tomatoes\", \"ID\", \"Country\", \"Age\"])\n",
    "\n",
    "# Series Movies DF\n",
    "streaming_platforms_series = pd.read_csv(\"../data/raw-data/StreamingPlatforms_TV_Shows.csv\", index_col=0)\n",
    "streaming_platforms_series = streaming_platforms_series.drop(columns=[\"IMDb\", \"Rotten Tomatoes\", \"type\", \"Age\"])\n",
    "\n",
    "# Merging both DF\n",
    "streamings_complete = pd.concat([streaming_platforms_movies, streaming_platforms_series])\n",
    "streamings_complete = streamings_complete.reset_index(drop=True)\n",
    "streamings_complete = streamings_complete.rename(columns={\"Title\":\"title\", \"Year\":\"year\", \"Age\":\"age\"})\n",
    "\n",
    "# Merge previous DF with the main (netflix)\n",
    "netflix = netflix.merge(streamings_complete, on=\"title\", how=\"left\")"
   ]
  },
  {
   "cell_type": "code",
   "execution_count": 15,
   "metadata": {},
   "outputs": [],
   "source": [
    "# Filling the NA values for being able to append from the other row if value is missing\n",
    "netflix[\"year\"] = netflix[\"year\"].fillna(0).astype(int)\n",
    "\n",
    "def correct_release_year(row):\n",
    "    \n",
    "    \"\"\"\n",
    "    Input: Row of the DF\n",
    "    Output: If the first condition is met, the value will be appended; if it's missing will append the other row value\n",
    "    \n",
    "    \"\"\"\n",
    "    if row[\"year\"] > 1:\n",
    "        return row[\"year\"]\n",
    "    if row[\"year\"] == 0:\n",
    "        return row[\"release_year\"]"
   ]
  },
  {
   "cell_type": "code",
   "execution_count": 16,
   "metadata": {},
   "outputs": [],
   "source": [
    "# Creating new column with the function created above\n",
    "netflix[\"correct_release_year\"] = netflix.apply(correct_release_year, axis=1)\n",
    "\n",
    "# Drop old year columns to avoid confusion\n",
    "netflix = netflix.drop(columns=[\"release_year\", \"year\"])"
   ]
  },
  {
   "cell_type": "code",
   "execution_count": 17,
   "metadata": {},
   "outputs": [],
   "source": [
    "# Converting Floats from the Streaming Platforms to Int\n",
    "# There are NaN values, that's why I use '.astype' from Pandas\n",
    "netflix[[\"Netflix\", \"Hulu\", \"Prime Video\", \"Disney+\"]] = netflix[[\"Netflix\", \"Hulu\", \"Prime Video\", \"Disney+\"]].astype(\"Int64\")"
   ]
  },
  {
   "cell_type": "code",
   "execution_count": 18,
   "metadata": {},
   "outputs": [],
   "source": [
    "# First isolation of the rating (stars) of the column IMDb_rating\n",
    "rating = []\n",
    "\n",
    "for rate in netflix[\"IMDb_rating\"]:\n",
    "    try:\n",
    "        rating.append(float(re.findall(r\"\\d{1}\\.\\d{1}\", rate)[0]))\n",
    "    except:\n",
    "        rating.append(np.NAN)\n",
    "        \n",
    "netflix[\"IMDb_rate\"] = rating\n",
    "\n",
    "# Second isolation of the rating (votes) of the column IMDb_rating\n",
    "votes = []\n",
    "\n",
    "for rate in netflix[\"IMDb_rating\"]:\n",
    "    try:\n",
    "        votes.append(re.findall(r\"\\d+\", rate))\n",
    "    except:\n",
    "        votes.append(np.nan)\n",
    "        \n",
    "\n",
    "correct_votes = []\n",
    "for v in votes:\n",
    "    try:\n",
    "        correct_votes.append(int(v[2]))\n",
    "    except:\n",
    "        correct_votes.append(np.nan)\n",
    "        \n",
    "netflix[\"IMDb_votes\"] = correct_votes\n",
    "\n",
    "# Convert the float of [\"IMDb_votes\"] to int with '.astype' from Pandas\n",
    "netflix[\"IMDb_votes\"] = netflix[\"IMDb_votes\"].astype(\"Int64\")\n",
    "\n",
    "# Drop initial column to avoid confusion\n",
    "netflix = netflix.drop(columns=\"IMDb_rating\")"
   ]
  },
  {
   "cell_type": "markdown",
   "metadata": {},
   "source": [
    "### Data Storage"
   ]
  },
  {
   "cell_type": "code",
   "execution_count": 20,
   "metadata": {},
   "outputs": [],
   "source": [
    "# Export the file to CSV for better manipulation\n",
    "#netflix.to_csv(\"../data/netflix_cleandata.csv\")"
   ]
  }
 ],
 "metadata": {
  "kernelspec": {
   "display_name": "Python 3",
   "language": "python",
   "name": "python3"
  },
  "language_info": {
   "codemirror_mode": {
    "name": "ipython",
    "version": 3
   },
   "file_extension": ".py",
   "mimetype": "text/x-python",
   "name": "python",
   "nbconvert_exporter": "python",
   "pygments_lexer": "ipython3",
   "version": "3.8.3"
  }
 },
 "nbformat": 4,
 "nbformat_minor": 4
}
